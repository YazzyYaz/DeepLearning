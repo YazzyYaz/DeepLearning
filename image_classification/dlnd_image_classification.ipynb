{
 "cells": [
  {
   "cell_type": "markdown",
   "metadata": {
    "collapsed": true,
    "deletable": true,
    "editable": true
   },
   "source": [
    "# Image Classification\n",
    "In this project, you'll classify images from the [CIFAR-10 dataset](https://www.cs.toronto.edu/~kriz/cifar.html).  The dataset consists of airplanes, dogs, cats, and other objects. You'll preprocess the images, then train a convolutional neural network on all the samples. The images need to be normalized and the labels need to be one-hot encoded.  You'll get to apply what you learned and build a convolutional, max pooling, dropout, and fully connected layers.  At the end, you'll get to see your neural network's predictions on the sample images.\n",
    "## Get the Data\n",
    "Run the following cell to download the [CIFAR-10 dataset for python](https://www.cs.toronto.edu/~kriz/cifar-10-python.tar.gz)."
   ]
  },
  {
   "cell_type": "code",
   "execution_count": 1,
   "metadata": {
    "collapsed": false,
    "deletable": true,
    "editable": true
   },
   "outputs": [
    {
     "name": "stderr",
     "output_type": "stream",
     "text": [
      "CIFAR-10 Dataset: 171MB [00:06, 27.5MB/s]                              \n"
     ]
    },
    {
     "name": "stdout",
     "output_type": "stream",
     "text": [
      "All files found!\n"
     ]
    }
   ],
   "source": [
    "\"\"\"\n",
    "DON'T MODIFY ANYTHING IN THIS CELL THAT IS BELOW THIS LINE\n",
    "\"\"\"\n",
    "from urllib.request import urlretrieve\n",
    "from os.path import isfile, isdir\n",
    "from tqdm import tqdm\n",
    "import problem_unittests as tests\n",
    "import tarfile\n",
    "\n",
    "cifar10_dataset_folder_path = 'cifar-10-batches-py'\n",
    "\n",
    "# Use Floyd's cifar-10 dataset if present\n",
    "floyd_cifar10_location = '/input/cifar-10/python.tar.gz'\n",
    "if isfile(floyd_cifar10_location):\n",
    "    tar_gz_path = floyd_cifar10_location\n",
    "else:\n",
    "    tar_gz_path = 'cifar-10-python.tar.gz'\n",
    "\n",
    "class DLProgress(tqdm):\n",
    "    last_block = 0\n",
    "\n",
    "    def hook(self, block_num=1, block_size=1, total_size=None):\n",
    "        self.total = total_size\n",
    "        self.update((block_num - self.last_block) * block_size)\n",
    "        self.last_block = block_num\n",
    "\n",
    "if not isfile(tar_gz_path):\n",
    "    with DLProgress(unit='B', unit_scale=True, miniters=1, desc='CIFAR-10 Dataset') as pbar:\n",
    "        urlretrieve(\n",
    "            'https://www.cs.toronto.edu/~kriz/cifar-10-python.tar.gz',\n",
    "            tar_gz_path,\n",
    "            pbar.hook)\n",
    "\n",
    "if not isdir(cifar10_dataset_folder_path):\n",
    "    with tarfile.open(tar_gz_path) as tar:\n",
    "        tar.extractall()\n",
    "        tar.close()\n",
    "\n",
    "\n",
    "tests.test_folder_path(cifar10_dataset_folder_path)"
   ]
  },
  {
   "cell_type": "markdown",
   "metadata": {
    "deletable": true,
    "editable": true
   },
   "source": [
    "## Explore the Data\n",
    "The dataset is broken into batches to prevent your machine from running out of memory.  The CIFAR-10 dataset consists of 5 batches, named `data_batch_1`, `data_batch_2`, etc.. Each batch contains the labels and images that are one of the following:\n",
    "* airplane\n",
    "* automobile\n",
    "* bird\n",
    "* cat\n",
    "* deer\n",
    "* dog\n",
    "* frog\n",
    "* horse\n",
    "* ship\n",
    "* truck\n",
    "\n",
    "Understanding a dataset is part of making predictions on the data.  Play around with the code cell below by changing the `batch_id` and `sample_id`. The `batch_id` is the id for a batch (1-5). The `sample_id` is the id for a image and label pair in the batch.\n",
    "\n",
    "Ask yourself \"What are all possible labels?\", \"What is the range of values for the image data?\", \"Are the labels in order or random?\".  Answers to questions like these will help you preprocess the data and end up with better predictions."
   ]
  },
  {
   "cell_type": "code",
   "execution_count": 2,
   "metadata": {
    "collapsed": false,
    "deletable": true,
    "editable": true
   },
   "outputs": [
    {
     "name": "stdout",
     "output_type": "stream",
     "text": [
      "\n",
      "Stats of batch 1:\n",
      "Samples: 10000\n",
      "Label Counts: {0: 1005, 1: 974, 2: 1032, 3: 1016, 4: 999, 5: 937, 6: 1030, 7: 1001, 8: 1025, 9: 981}\n",
      "First 20 Labels: [6, 9, 9, 4, 1, 1, 2, 7, 8, 3, 4, 7, 7, 2, 9, 9, 9, 3, 2, 6]\n",
      "\n",
      "Example of Image 5:\n",
      "Image - Min Value: 0 Max Value: 252\n",
      "Image - Shape: (32, 32, 3)\n",
      "Label - Label Id: 1 Name: automobile\n"
     ]
    },
    {
     "data": {
      "image/png": "[encoded data removed]",
      "text/plain": [
       "<matplotlib.figure.Figure at 0x7f2e01e97b00>"
      ]
     },
     "metadata": {
      "image/png": {
       "height": 250,
       "width": 253
      }
     },
     "output_type": "display_data"
    }
   ],
   "source": [
    "%matplotlib inline\n",
    "%config InlineBackend.figure_format = 'retina'\n",
    "\n",
    "import helper\n",
    "import numpy as np\n",
    "\n",
    "# Explore the dataset\n",
    "batch_id = 1\n",
    "sample_id = 5\n",
    "helper.display_stats(cifar10_dataset_folder_path, batch_id, sample_id)"
   ]
  },
  {
   "cell_type": "markdown",
   "metadata": {
    "deletable": true,
    "editable": true
   },
   "source": [
    "## Implement Preprocess Functions\n",
    "### Normalize\n",
    "In the cell below, implement the `normalize` function to take in image data, `x`, and return it as a normalized Numpy array. The values should be in the range of 0 to 1, inclusive.  The return object should be the same shape as `x`."
   ]
  },
  {
   "cell_type": "code",
   "execution_count": 3,
   "metadata": {
    "collapsed": false,
    "deletable": true,
    "editable": true
   },
   "outputs": [
    {
     "name": "stdout",
     "output_type": "stream",
     "text": [
      "Tests Passed\n"
     ]
    }
   ],
   "source": [
    "def normalize(x):\n",
    "    \"\"\"\n",
    "    Normalize a list of sample image data in the range of 0 to 1\n",
    "    : x: List of image data.  The image shape is (32, 32, 3)\n",
    "    : return: Numpy array of normalize data\n",
    "    \"\"\"\n",
    "    # TODO: Implement Function\n",
    "    return x / np.max(x, axis=0)\n",
    "\n",
    "\n",
    "\"\"\"\n",
    "DON'T MODIFY ANYTHING IN THIS CELL THAT IS BELOW THIS LINE\n",
    "\"\"\"\n",
    "tests.test_normalize(normalize)"
   ]
  },
  {
   "cell_type": "markdown",
   "metadata": {
    "deletable": true,
    "editable": true
   },
   "source": [
    "### One-hot encode\n",
    "Just like the previous code cell, you'll be implementing a function for preprocessing.  This time, you'll implement the `one_hot_encode` function. The input, `x`, are a list of labels.  Implement the function to return the list of labels as One-Hot encoded Numpy array.  The possible values for labels are 0 to 9. The one-hot encoding function should return the same encoding for each value between each call to `one_hot_encode`.  Make sure to save the map of encodings outside the function.\n",
    "\n",
    "Hint: Don't reinvent the wheel."
   ]
  },
  {
   "cell_type": "code",
   "execution_count": 4,
   "metadata": {
    "collapsed": false,
    "deletable": true,
    "editable": true
   },
   "outputs": [
    {
     "name": "stdout",
     "output_type": "stream",
     "text": [
      "Tests Passed\n"
     ]
    }
   ],
   "source": [
    "_get_one_hot_encode = np.eye(10, dtype=np.float32)\n",
    "def one_hot_encode(x):\n",
    "    \"\"\"\n",
    "    One hot encode a list of sample labels. Return a one-hot encoded vector for each label.\n",
    "    : x: List of sample Labels\n",
    "    : return: Numpy array of one-hot encoded labels\n",
    "    \"\"\"\n",
    "    # TODO: Implement Function\n",
    "    return _get_one_hot_encode[x]\n",
    "\n",
    "\n",
    "\"\"\"\n",
    "DON'T MODIFY ANYTHING IN THIS CELL THAT IS BELOW THIS LINE\n",
    "\"\"\"\n",
    "tests.test_one_hot_encode(one_hot_encode)"
   ]
  },
  {
   "cell_type": "markdown",
   "metadata": {
    "deletable": true,
    "editable": true
   },
   "source": [
    "### Randomize Data\n",
    "As you saw from exploring the data above, the order of the samples are randomized.  It doesn't hurt to randomize it again, but you don't need to for this dataset."
   ]
  },
  {
   "cell_type": "markdown",
   "metadata": {
    "deletable": true,
    "editable": true
   },
   "source": [
    "## Preprocess all the data and save it\n",
    "Running the code cell below will preprocess all the CIFAR-10 data and save it to file. The code below also uses 10% of the training data for validation."
   ]
  },
  {
   "cell_type": "code",
   "execution_count": 5,
   "metadata": {
    "collapsed": false,
    "deletable": true,
    "editable": true
   },
   "outputs": [],
   "source": [
    "\"\"\"\n",
    "DON'T MODIFY ANYTHING IN THIS CELL\n",
    "\"\"\"\n",
    "# Preprocess Training, Validation, and Testing Data\n",
    "helper.preprocess_and_save_data(cifar10_dataset_folder_path, normalize, one_hot_encode)"
   ]
  },
  {
   "cell_type": "markdown",
   "metadata": {
    "deletable": true,
    "editable": true
   },
   "source": [
    "# Check Point\n",
    "This is your first checkpoint.  If you ever decide to come back to this notebook or have to restart the notebook, you can start from here.  The preprocessed data has been saved to disk."
   ]
  },
  {
   "cell_type": "code",
   "execution_count": 6,
   "metadata": {
    "collapsed": true,
    "deletable": true,
    "editable": true
   },
   "outputs": [],
   "source": [
    "\"\"\"\n",
    "DON'T MODIFY ANYTHING IN THIS CELL\n",
    "\"\"\"\n",
    "import pickle\n",
    "import problem_unittests as tests\n",
    "import helper\n",
    "\n",
    "# Load the Preprocessed Validation data\n",
    "valid_features, valid_labels = pickle.load(open('preprocess_validation.p', mode='rb'))"
   ]
  },
  {
   "cell_type": "markdown",
   "metadata": {
    "deletable": true,
    "editable": true
   },
   "source": [
    "## Build the network\n",
    "For the neural network, you'll build each layer into a function.  Most of the code you've seen has been outside of functions. To test your code more thoroughly, we require that you put each layer in a function.  This allows us to give you better feedback and test for simple mistakes using our unittests before you submit your project.\n",
    "\n",
    ">**Note:** If you're finding it hard to dedicate enough time for this course each week, we've provided a small shortcut to this part of the project. In the next couple of problems, you'll have the option to use classes from the [TensorFlow Layers](https://www.tensorflow.org/api_docs/python/tf/layers) or [TensorFlow Layers (contrib)](https://www.tensorflow.org/api_guides/python/contrib.layers) packages to build each layer, except the layers you build in the \"Convolutional and Max Pooling Layer\" section.  TF Layers is similar to Keras's and TFLearn's abstraction to layers, so it's easy to pickup.\n",
    "\n",
    ">However, if you would like to get the most out of this course, try to solve all the problems _without_ using anything from the TF Layers packages. You **can** still use classes from other packages that happen to have the same name as ones you find in TF Layers! For example, instead of using the TF Layers version of the `conv2d` class, [tf.layers.conv2d](https://www.tensorflow.org/api_docs/python/tf/layers/conv2d), you would want to use the TF Neural Network version of `conv2d`, [tf.nn.conv2d](https://www.tensorflow.org/api_docs/python/tf/nn/conv2d). \n",
    "\n",
    "Let's begin!\n",
    "\n",
    "### Input\n",
    "The neural network needs to read the image data, one-hot encoded labels, and dropout keep probability. Implement the following functions\n",
    "* Implement `neural_net_image_input`\n",
    " * Return a [TF Placeholder](https://www.tensorflow.org/api_docs/python/tf/placeholder)\n",
    " * Set the shape using `image_shape` with batch size set to `None`.\n",
    " * Name the TensorFlow placeholder \"x\" using the TensorFlow `name` parameter in the [TF Placeholder](https://www.tensorflow.org/api_docs/python/tf/placeholder).\n",
    "* Implement `neural_net_label_input`\n",
    " * Return a [TF Placeholder](https://www.tensorflow.org/api_docs/python/tf/placeholder)\n",
    " * Set the shape using `n_classes` with batch size set to `None`.\n",
    " * Name the TensorFlow placeholder \"y\" using the TensorFlow `name` parameter in the [TF Placeholder](https://www.tensorflow.org/api_docs/python/tf/placeholder).\n",
    "* Implement `neural_net_keep_prob_input`\n",
    " * Return a [TF Placeholder](https://www.tensorflow.org/api_docs/python/tf/placeholder) for dropout keep probability.\n",
    " * Name the TensorFlow placeholder \"keep_prob\" using the TensorFlow `name` parameter in the [TF Placeholder](https://www.tensorflow.org/api_docs/python/tf/placeholder).\n",
    "\n",
    "These names will be used at the end of the project to load your saved model.\n",
    "\n",
    "Note: `None` for shapes in TensorFlow allow for a dynamic size."
   ]
  },
  {
   "cell_type": "code",
   "execution_count": 7,
   "metadata": {
    "collapsed": false,
    "deletable": true,
    "editable": true
   },
   "outputs": [
    {
     "name": "stdout",
     "output_type": "stream",
     "text": [
      "Image Input Tests Passed.\n",
      "Label Input Tests Passed.\n",
      "Keep Prob Tests Passed.\n"
     ]
    }
   ],
   "source": [
    "import tensorflow as tf\n",
    "\n",
    "def neural_net_image_input(image_shape):\n",
    "    \"\"\"\n",
    "    Return a Tensor for a batch of image input\n",
    "    : image_shape: Shape of the images\n",
    "    : return: Tensor for image input.\n",
    "    \"\"\"\n",
    "    # TODO: Implement Function\n",
    "    x = tf.placeholder(tf.float32, shape=[None, *image_shape], name='x')\n",
    "    return x\n",
    "\n",
    "\n",
    "def neural_net_label_input(n_classes):\n",
    "    \"\"\"\n",
    "    Return a Tensor for a batch of label input\n",
    "    : n_classes: Number of classes\n",
    "    : return: Tensor for label input.\n",
    "    \"\"\"\n",
    "    # TODO: Implement Function\n",
    "    y = tf.placeholder(tf.int32, shape=[None, n_classes], name='y')\n",
    "    return y\n",
    "\n",
    "\n",
    "def neural_net_keep_prob_input():\n",
    "    \"\"\"\n",
    "    Return a Tensor for keep probability\n",
    "    : return: Tensor for keep probability.\n",
    "    \"\"\"\n",
    "    # TODO: Implement Function\n",
    "    keep_prob = tf.placeholder(tf.float32, name='keep_prob')\n",
    "    return keep_prob\n",
    "\n",
    "\n",
    "\"\"\"\n",
    "DON'T MODIFY ANYTHING IN THIS CELL THAT IS BELOW THIS LINE\n",
    "\"\"\"\n",
    "tf.reset_default_graph()\n",
    "tests.test_nn_image_inputs(neural_net_image_input)\n",
    "tests.test_nn_label_inputs(neural_net_label_input)\n",
    "tests.test_nn_keep_prob_inputs(neural_net_keep_prob_input)"
   ]
  },
  {
   "cell_type": "markdown",
   "metadata": {
    "deletable": true,
    "editable": true
   },
   "source": [
    "### Convolution and Max Pooling Layer\n",
    "Convolution layers have a lot of success with images. For this code cell, you should implement the function `conv2d_maxpool` to apply convolution then max pooling:\n",
    "* Create the weight and bias using `conv_ksize`, `conv_num_outputs` and the shape of `x_tensor`.\n",
    "* Apply a convolution to `x_tensor` using weight and `conv_strides`.\n",
    " * We recommend you use same padding, but you're welcome to use any padding.\n",
    "* Add bias\n",
    "* Add a nonlinear activation to the convolution.\n",
    "* Apply Max Pooling using `pool_ksize` and `pool_strides`.\n",
    " * We recommend you use same padding, but you're welcome to use any padding.\n",
    "\n",
    "**Note:** You **can't** use [TensorFlow Layers](https://www.tensorflow.org/api_docs/python/tf/layers) or [TensorFlow Layers (contrib)](https://www.tensorflow.org/api_guides/python/contrib.layers) for **this** layer, but you can still use TensorFlow's [Neural Network](https://www.tensorflow.org/api_docs/python/tf/nn) package. You may still use the shortcut option for all the **other** layers."
   ]
  },
  {
   "cell_type": "code",
   "execution_count": 8,
   "metadata": {
    "collapsed": false,
    "deletable": true,
    "editable": true
   },
   "outputs": [
    {
     "name": "stdout",
     "output_type": "stream",
     "text": [
      "Tests Passed\n"
     ]
    }
   ],
   "source": [
    "def conv2d_maxpool(x_tensor, conv_num_outputs, conv_ksize, conv_strides, pool_ksize, pool_strides):\n",
    "    \"\"\"\n",
    "    Apply convolution then max pooling to x_tensor\n",
    "    :param x_tensor: TensorFlow Tensor\n",
    "    :param conv_num_outputs: Number of outputs for the convolutional layer\n",
    "    :param conv_ksize: kernal size 2-D Tuple for the convolutional layer\n",
    "    :param conv_strides: Stride 2-D Tuple for convolution\n",
    "    :param pool_ksize: kernal size 2-D Tuple for pool\n",
    "    :param pool_strides: Stride 2-D Tuple for pool\n",
    "    : return: A tensor that represents convolution and max pooling of x_tensor\n",
    "    \"\"\"\n",
    "    # TODO: Implement Function\n",
    "    tensor_shape = x_tensor.get_shape().as_list()\n",
    "    _, image_width, image_height, color_channels = tensor_shape\n",
    "    \n",
    "    filter_width, filter_height = conv_ksize\n",
    "    shape = [filter_width, filter_height, color_channels, conv_num_outputs]\n",
    "    \n",
    "    weight = tf.Variable(tf.truncated_normal(shape, mean=0.0, stddev=0.08))\n",
    "    bias = tf.Variable(tf.zeros(conv_num_outputs))\n",
    "    \n",
    "    conv_layer = tf.nn.conv2d(x_tensor, weight, strides=[1, *conv_strides, 1], padding='SAME')\n",
    "    \n",
    "    conv_layer = tf.nn.bias_add(conv_layer, bias)\n",
    "    conv_layer = tf.nn.relu(conv_layer)\n",
    "    \n",
    "    conv_layer = tf.nn.max_pool(\n",
    "        conv_layer,\n",
    "        ksize=[1, *pool_ksize, 1],\n",
    "        strides=[1, *pool_strides, 1],\n",
    "        padding='SAME')\n",
    "    \n",
    "    \n",
    "    return conv_layer\n",
    "\n",
    "\n",
    "\"\"\"\n",
    "DON'T MODIFY ANYTHING IN THIS CELL THAT IS BELOW THIS LINE\n",
    "\"\"\"\n",
    "tests.test_con_pool(conv2d_maxpool)"
   ]
  },
  {
   "cell_type": "markdown",
   "metadata": {
    "deletable": true,
    "editable": true
   },
   "source": [
    "### Flatten Layer\n",
    "Implement the `flatten` function to change the dimension of `x_tensor` from a 4-D tensor to a 2-D tensor.  The output should be the shape (*Batch Size*, *Flattened Image Size*). Shortcut option: you can use classes from the [TensorFlow Layers](https://www.tensorflow.org/api_docs/python/tf/layers) or [TensorFlow Layers (contrib)](https://www.tensorflow.org/api_guides/python/contrib.layers) packages for this layer. For more of a challenge, only use other TensorFlow packages."
   ]
  },
  {
   "cell_type": "code",
   "execution_count": 9,
   "metadata": {
    "collapsed": false,
    "deletable": true,
    "editable": true
   },
   "outputs": [
    {
     "name": "stdout",
     "output_type": "stream",
     "text": [
      "Tests Passed\n"
     ]
    }
   ],
   "source": [
    "def flatten(x_tensor):\n",
    "    \"\"\"\n",
    "    Flatten x_tensor to (Batch Size, Flattened Image Size)\n",
    "    : x_tensor: A tensor of size (Batch Size, ...), where ... are the image dimensions.\n",
    "    : return: A tensor of size (Batch Size, Flattened Image Size).\n",
    "    \"\"\"\n",
    "    # TODO: Implement Function\n",
    "    batch_size, image_width, image_height, color_channels = x_tensor.get_shape().as_list()\n",
    "    return tf.reshape(x_tensor, [-1, image_width * image_height * color_channels])\n",
    "\n",
    "\n",
    "\"\"\"\n",
    "DON'T MODIFY ANYTHING IN THIS CELL THAT IS BELOW THIS LINE\n",
    "\"\"\"\n",
    "tests.test_flatten(flatten)"
   ]
  },
  {
   "cell_type": "markdown",
   "metadata": {
    "deletable": true,
    "editable": true
   },
   "source": [
    "### Fully-Connected Layer\n",
    "Implement the `fully_conn` function to apply a fully connected layer to `x_tensor` with the shape (*Batch Size*, *num_outputs*). Shortcut option: you can use classes from the [TensorFlow Layers](https://www.tensorflow.org/api_docs/python/tf/layers) or [TensorFlow Layers (contrib)](https://www.tensorflow.org/api_guides/python/contrib.layers) packages for this layer. For more of a challenge, only use other TensorFlow packages."
   ]
  },
  {
   "cell_type": "code",
   "execution_count": 10,
   "metadata": {
    "collapsed": false,
    "deletable": true,
    "editable": true
   },
   "outputs": [
    {
     "name": "stdout",
     "output_type": "stream",
     "text": [
      "Tests Passed\n"
     ]
    }
   ],
   "source": [
    "def fully_conn(x_tensor, num_outputs):\n",
    "    \"\"\"\n",
    "    Apply a fully connected layer to x_tensor using weight and bias\n",
    "    : x_tensor: A 2-D tensor where the first dimension is batch size.\n",
    "    : num_outputs: The number of output that the new tensor should be.\n",
    "    : return: A 2-D tensor where the second dimension is num_outputs.\n",
    "    \"\"\"\n",
    "    # TODO: Implement Function\n",
    "    tensor_shape = x_tensor.get_shape().as_list()\n",
    "    _, tensor_size = tensor_shape\n",
    "    \n",
    "    weights = tf.Variable(tf.truncated_normal([tensor_size, num_outputs], mean=0.0, stddev=0.08))\n",
    "    bias = tf.Variable(tf.zeros(num_outputs))\n",
    "    fully_connected_layer = tf.add(tf.matmul(x_tensor, weights), bias)\n",
    "    fully_connected_layer = tf.nn.relu(fully_connected_layer)\n",
    "    \n",
    "    return fully_connected_layer\n",
    "\n",
    "\n",
    "\"\"\"\n",
    "DON'T MODIFY ANYTHING IN THIS CELL THAT IS BELOW THIS LINE\n",
    "\"\"\"\n",
    "tests.test_fully_conn(fully_conn)"
   ]
  },
  {
   "cell_type": "markdown",
   "metadata": {
    "deletable": true,
    "editable": true
   },
   "source": [
    "### Output Layer\n",
    "Implement the `output` function to apply a fully connected layer to `x_tensor` with the shape (*Batch Size*, *num_outputs*). Shortcut option: you can use classes from the [TensorFlow Layers](https://www.tensorflow.org/api_docs/python/tf/layers) or [TensorFlow Layers (contrib)](https://www.tensorflow.org/api_guides/python/contrib.layers) packages for this layer. For more of a challenge, only use other TensorFlow packages.\n",
    "\n",
    "**Note:** Activation, softmax, or cross entropy should **not** be applied to this."
   ]
  },
  {
   "cell_type": "code",
   "execution_count": 11,
   "metadata": {
    "collapsed": false,
    "deletable": true,
    "editable": true
   },
   "outputs": [
    {
     "name": "stdout",
     "output_type": "stream",
     "text": [
      "Tests Passed\n"
     ]
    }
   ],
   "source": [
    "def output(x_tensor, num_outputs):\n",
    "    \"\"\"\n",
    "    Apply a output layer to x_tensor using weight and bias\n",
    "    : x_tensor: A 2-D tensor where the first dimension is batch size.\n",
    "    : num_outputs: The number of output that the new tensor should be.\n",
    "    : return: A 2-D tensor where the second dimension is num_outputs.\n",
    "    \"\"\"\n",
    "    # TODO: Implement Function\n",
    "    tensor_shape = x_tensor.get_shape().as_list()\n",
    "    _, tensor_size = tensor_shape\n",
    "    \n",
    "    weights = tf.Variable(tf.truncated_normal([tensor_size, num_outputs], mean=0.0, stddev=0.08))\n",
    "    bias = tf.Variable(tf.zeros(num_outputs))\n",
    "    output_layer = tf.add(tf.matmul(x_tensor, weights), bias)\n",
    "    return output_layer\n",
    "\n",
    "\n",
    "\"\"\"\n",
    "DON'T MODIFY ANYTHING IN THIS CELL THAT IS BELOW THIS LINE\n",
    "\"\"\"\n",
    "tests.test_output(output)"
   ]
  },
  {
   "cell_type": "markdown",
   "metadata": {
    "deletable": true,
    "editable": true
   },
   "source": [
    "### Create Convolutional Model\n",
    "Implement the function `conv_net` to create a convolutional neural network model. The function takes in a batch of images, `x`, and outputs logits.  Use the layers you created above to create this model:\n",
    "\n",
    "* Apply 1, 2, or 3 Convolution and Max Pool layers\n",
    "* Apply a Flatten Layer\n",
    "* Apply 1, 2, or 3 Fully Connected Layers\n",
    "* Apply an Output Layer\n",
    "* Return the output\n",
    "* Apply [TensorFlow's Dropout](https://www.tensorflow.org/api_docs/python/tf/nn/dropout) to one or more layers in the model using `keep_prob`. "
   ]
  },
  {
   "cell_type": "code",
   "execution_count": 12,
   "metadata": {
    "collapsed": false,
    "deletable": true,
    "editable": true
   },
   "outputs": [
    {
     "name": "stdout",
     "output_type": "stream",
     "text": [
      "Neural Network Built!\n"
     ]
    }
   ],
   "source": [
    "def conv_net(x, keep_prob):\n",
    "    \"\"\"\n",
    "    Create a convolutional neural network model\n",
    "    : x: Placeholder tensor that holds image data.\n",
    "    : keep_prob: Placeholder tensor that hold dropout keep probability.\n",
    "    : return: Tensor that represents logits\n",
    "    \"\"\"\n",
    "    # TODO: Apply 1, 2, or 3 Convolution and Max Pool layers\n",
    "    #    Play around with different number of outputs, kernel size and stride\n",
    "    # Function Definition from Above:\n",
    "    #    conv2d_maxpool(x_tensor, conv_num_outputs, conv_ksize, conv_strides, pool_ksize, pool_strides)\n",
    "    conv_layer = conv2d_maxpool(x, 64, (12, 12), (4, 4), (2, 2), (2, 2))\n",
    "    conv_layer = tf.nn.dropout(conv_layer, keep_prob)\n",
    "    \n",
    "    conv_layer_2 = conv2d_maxpool(conv_layer, 128, (6, 6), (4, 4), (2, 2), (2, 2))\n",
    "    conv_layer_2 = tf.nn.dropout(conv_layer_2, keep_prob)\n",
    "    \n",
    "    conv_layer_3 = conv2d_maxpool(conv_layer_2, 256, (3, 3), (4, 4), (2, 2), (2, 2))\n",
    "    conv_layer_3 = tf.nn.dropout(conv_layer_3, keep_prob)\n",
    "    \n",
    "    # TODO: Apply a Flatten Layer\n",
    "    # Function Definition from Above:\n",
    "    #   flatten(x_tensor)\n",
    "    flatten_layer = flatten(conv_layer)\n",
    "\n",
    "    # TODO: Apply 1, 2, or 3 Fully Connected Layers\n",
    "    #    Play around with different number of outputs\n",
    "    # Function Definition from Above:\n",
    "    #   fully_conn(x_tensor, num_outputs)\n",
    "    fully_conn_layer = fully_conn(flatten_layer, 10)\n",
    "    \n",
    "    # TODO: Apply an Output Layer\n",
    "    #    Set this to the number of classes\n",
    "    # Function Definition from Above:\n",
    "    #   output(x_tensor, num_outputs)\n",
    "    output_layer = output(fully_conn_layer, 10)\n",
    "    \n",
    "    # TODO: return output\n",
    "    return output_layer\n",
    "\n",
    "\n",
    "\"\"\"\n",
    "DON'T MODIFY ANYTHING IN THIS CELL THAT IS BELOW THIS LINE\n",
    "\"\"\"\n",
    "\n",
    "##############################\n",
    "## Build the Neural Network ##\n",
    "##############################\n",
    "\n",
    "# Remove previous weights, bias, inputs, etc..\n",
    "tf.reset_default_graph()\n",
    "\n",
    "# Inputs\n",
    "x = neural_net_image_input((32, 32, 3))\n",
    "y = neural_net_label_input(10)\n",
    "keep_prob = neural_net_keep_prob_input()\n",
    "\n",
    "# Model\n",
    "logits = conv_net(x, keep_prob)\n",
    "\n",
    "# Name logits Tensor, so that is can be loaded from disk after training\n",
    "logits = tf.identity(logits, name='logits')\n",
    "\n",
    "# Loss and Optimizer\n",
    "cost = tf.reduce_mean(tf.nn.softmax_cross_entropy_with_logits(logits=logits, labels=y))\n",
    "optimizer = tf.train.AdamOptimizer().minimize(cost)\n",
    "\n",
    "# Accuracy\n",
    "correct_pred = tf.equal(tf.argmax(logits, 1), tf.argmax(y, 1))\n",
    "accuracy = tf.reduce_mean(tf.cast(correct_pred, tf.float32), name='accuracy')\n",
    "\n",
    "tests.test_conv_net(conv_net)"
   ]
  },
  {
   "cell_type": "markdown",
   "metadata": {
    "deletable": true,
    "editable": true
   },
   "source": [
    "## Train the Neural Network\n",
    "### Single Optimization\n",
    "Implement the function `train_neural_network` to do a single optimization.  The optimization should use `optimizer` to optimize in `session` with a `feed_dict` of the following:\n",
    "* `x` for image input\n",
    "* `y` for labels\n",
    "* `keep_prob` for keep probability for dropout\n",
    "\n",
    "This function will be called for each batch, so `tf.global_variables_initializer()` has already been called.\n",
    "\n",
    "Note: Nothing needs to be returned. This function is only optimizing the neural network."
   ]
  },
  {
   "cell_type": "code",
   "execution_count": 13,
   "metadata": {
    "collapsed": false,
    "deletable": true,
    "editable": true
   },
   "outputs": [
    {
     "name": "stdout",
     "output_type": "stream",
     "text": [
      "Tests Passed\n"
     ]
    }
   ],
   "source": [
    "def train_neural_network(session, optimizer, keep_probability, feature_batch, label_batch):\n",
    "    \"\"\"\n",
    "    Optimize the session on a batch of images and labels\n",
    "    : session: Current TensorFlow session\n",
    "    : optimizer: TensorFlow optimizer function\n",
    "    : keep_probability: keep probability\n",
    "    : feature_batch: Batch of Numpy image data\n",
    "    : label_batch: Batch of Numpy label data\n",
    "    \"\"\"\n",
    "    # TODO: Implement Function\n",
    "    session.run(optimizer, feed_dict={\n",
    "            x: feature_batch,\n",
    "            y: label_batch,\n",
    "            keep_prob: keep_probability})\n",
    "\n",
    "\n",
    "\"\"\"\n",
    "DON'T MODIFY ANYTHING IN THIS CELL THAT IS BELOW THIS LINE\n",
    "\"\"\"\n",
    "tests.test_train_nn(train_neural_network)"
   ]
  },
  {
   "cell_type": "markdown",
   "metadata": {
    "deletable": true,
    "editable": true
   },
   "source": [
    "### Show Stats\n",
    "Implement the function `print_stats` to print loss and validation accuracy.  Use the global variables `valid_features` and `valid_labels` to calculate validation accuracy.  Use a keep probability of `1.0` to calculate the loss and validation accuracy."
   ]
  },
  {
   "cell_type": "code",
   "execution_count": 14,
   "metadata": {
    "collapsed": false,
    "deletable": true,
    "editable": true
   },
   "outputs": [],
   "source": [
    "def print_stats(session, feature_batch, label_batch, cost, accuracy):\n",
    "    \"\"\"\n",
    "    Print information about loss and validation accuracy\n",
    "    : session: Current TensorFlow session\n",
    "    : feature_batch: Batch of Numpy image data\n",
    "    : label_batch: Batch of Numpy label data\n",
    "    : cost: TensorFlow cost function\n",
    "    : accuracy: TensorFlow accuracy function\n",
    "    \"\"\"\n",
    "    # TODO: Implement Function\n",
    "    loss = session.run(cost, feed_dict={\n",
    "            x: feature_batch,\n",
    "            y: label_batch,\n",
    "            keep_prob: 1.})\n",
    "\n",
    "    valid_acc = session.run(accuracy, feed_dict={\n",
    "            x: valid_features,\n",
    "            y: valid_labels,\n",
    "            keep_prob: 1.})\n",
    "    print('Loss: {:>10.4f} Validation Accuracy: {:.6f}'.format(\n",
    "            loss,\n",
    "            valid_acc))"
   ]
  },
  {
   "cell_type": "markdown",
   "metadata": {
    "deletable": true,
    "editable": true
   },
   "source": [
    "### Hyperparameters\n",
    "Tune the following parameters:\n",
    "* Set `epochs` to the number of iterations until the network stops learning or start overfitting\n",
    "* Set `batch_size` to the highest number that your machine has memory for.  Most people set them to common sizes of memory:\n",
    " * 64\n",
    " * 128\n",
    " * 256\n",
    " * ...\n",
    "* Set `keep_probability` to the probability of keeping a node using dropout"
   ]
  },
  {
   "cell_type": "code",
   "execution_count": 18,
   "metadata": {
    "collapsed": true,
    "deletable": true,
    "editable": true
   },
   "outputs": [],
   "source": [
    "# TODO: Tune Parameters\n",
    "epochs = 60\n",
    "batch_size = 512\n",
    "keep_probability = 0.85"
   ]
  },
  {
   "cell_type": "markdown",
   "metadata": {
    "deletable": true,
    "editable": true
   },
   "source": [
    "### Train on a Single CIFAR-10 Batch\n",
    "Instead of training the neural network on all the CIFAR-10 batches of data, let's use a single batch. This should save time while you iterate on the model to get a better accuracy.  Once the final validation accuracy is 50% or greater, run the model on all the data in the next section."
   ]
  },
  {
   "cell_type": "code",
   "execution_count": 19,
   "metadata": {
    "collapsed": false,
    "deletable": true,
    "editable": true
   },
   "outputs": [
    {
     "name": "stdout",
     "output_type": "stream",
     "text": [
      "Checking the Training on a Single Batch...\n",
      "Epoch  1, CIFAR-10 Batch 1:  Loss:     2.2100 Validation Accuracy: 0.161800\n",
      "Epoch  2, CIFAR-10 Batch 1:  Loss:     2.0895 Validation Accuracy: 0.249000\n",
      "Epoch  3, CIFAR-10 Batch 1:  Loss:     2.0058 Validation Accuracy: 0.287800\n",
      "Epoch  4, CIFAR-10 Batch 1:  Loss:     1.9597 Validation Accuracy: 0.300600\n",
      "Epoch  5, CIFAR-10 Batch 1:  Loss:     1.9210 Validation Accuracy: 0.307600\n",
      "Epoch  6, CIFAR-10 Batch 1:  Loss:     1.8852 Validation Accuracy: 0.324200\n",
      "Epoch  7, CIFAR-10 Batch 1:  Loss:     1.8513 Validation Accuracy: 0.337200\n",
      "Epoch  8, CIFAR-10 Batch 1:  Loss:     1.8166 Validation Accuracy: 0.346000\n",
      "Epoch  9, CIFAR-10 Batch 1:  Loss:     1.7785 Validation Accuracy: 0.362800\n",
      "Epoch 10, CIFAR-10 Batch 1:  Loss:     1.7292 Validation Accuracy: 0.378600\n",
      "Epoch 11, CIFAR-10 Batch 1:  Loss:     1.6887 Validation Accuracy: 0.389400\n",
      "Epoch 12, CIFAR-10 Batch 1:  Loss:     1.6550 Validation Accuracy: 0.397800\n",
      "Epoch 13, CIFAR-10 Batch 1:  Loss:     1.6250 Validation Accuracy: 0.402200\n",
      "Epoch 14, CIFAR-10 Batch 1:  Loss:     1.6028 Validation Accuracy: 0.411000\n",
      "Epoch 15, CIFAR-10 Batch 1:  Loss:     1.5768 Validation Accuracy: 0.416800\n",
      "Epoch 16, CIFAR-10 Batch 1:  Loss:     1.5496 Validation Accuracy: 0.429600\n",
      "Epoch 17, CIFAR-10 Batch 1:  Loss:     1.5261 Validation Accuracy: 0.441800\n",
      "Epoch 18, CIFAR-10 Batch 1:  Loss:     1.5063 Validation Accuracy: 0.445800\n",
      "Epoch 19, CIFAR-10 Batch 1:  Loss:     1.4784 Validation Accuracy: 0.452400\n",
      "Epoch 20, CIFAR-10 Batch 1:  Loss:     1.4583 Validation Accuracy: 0.460600\n",
      "Epoch 21, CIFAR-10 Batch 1:  Loss:     1.4348 Validation Accuracy: 0.467200\n",
      "Epoch 22, CIFAR-10 Batch 1:  Loss:     1.4085 Validation Accuracy: 0.473000\n",
      "Epoch 23, CIFAR-10 Batch 1:  Loss:     1.3905 Validation Accuracy: 0.485600\n",
      "Epoch 24, CIFAR-10 Batch 1:  Loss:     1.3733 Validation Accuracy: 0.488400\n",
      "Epoch 25, CIFAR-10 Batch 1:  Loss:     1.3494 Validation Accuracy: 0.493400\n",
      "Epoch 26, CIFAR-10 Batch 1:  Loss:     1.3312 Validation Accuracy: 0.494600\n",
      "Epoch 27, CIFAR-10 Batch 1:  Loss:     1.3231 Validation Accuracy: 0.499400\n",
      "Epoch 28, CIFAR-10 Batch 1:  Loss:     1.3097 Validation Accuracy: 0.501600\n",
      "Epoch 29, CIFAR-10 Batch 1:  Loss:     1.2887 Validation Accuracy: 0.506400\n",
      "Epoch 30, CIFAR-10 Batch 1:  Loss:     1.2907 Validation Accuracy: 0.502200\n",
      "Epoch 31, CIFAR-10 Batch 1:  Loss:     1.2630 Validation Accuracy: 0.510800\n",
      "Epoch 32, CIFAR-10 Batch 1:  Loss:     1.2503 Validation Accuracy: 0.513000\n",
      "Epoch 33, CIFAR-10 Batch 1:  Loss:     1.2416 Validation Accuracy: 0.511000\n",
      "Epoch 34, CIFAR-10 Batch 1:  Loss:     1.2271 Validation Accuracy: 0.515400\n",
      "Epoch 35, CIFAR-10 Batch 1:  Loss:     1.2140 Validation Accuracy: 0.514800\n",
      "Epoch 36, CIFAR-10 Batch 1:  Loss:     1.2047 Validation Accuracy: 0.517600\n",
      "Epoch 37, CIFAR-10 Batch 1:  Loss:     1.1797 Validation Accuracy: 0.521600\n",
      "Epoch 38, CIFAR-10 Batch 1:  Loss:     1.1786 Validation Accuracy: 0.514600\n",
      "Epoch 39, CIFAR-10 Batch 1:  Loss:     1.1637 Validation Accuracy: 0.522600\n",
      "Epoch 40, CIFAR-10 Batch 1:  Loss:     1.1581 Validation Accuracy: 0.520000\n",
      "Epoch 41, CIFAR-10 Batch 1:  Loss:     1.1405 Validation Accuracy: 0.523800\n",
      "Epoch 42, CIFAR-10 Batch 1:  Loss:     1.1432 Validation Accuracy: 0.526400\n",
      "Epoch 43, CIFAR-10 Batch 1:  Loss:     1.1238 Validation Accuracy: 0.525600\n",
      "Epoch 44, CIFAR-10 Batch 1:  Loss:     1.1223 Validation Accuracy: 0.523400\n",
      "Epoch 45, CIFAR-10 Batch 1:  Loss:     1.1089 Validation Accuracy: 0.523400\n",
      "Epoch 46, CIFAR-10 Batch 1:  Loss:     1.0919 Validation Accuracy: 0.531200\n",
      "Epoch 47, CIFAR-10 Batch 1:  Loss:     1.0840 Validation Accuracy: 0.531200\n",
      "Epoch 48, CIFAR-10 Batch 1:  Loss:     1.0725 Validation Accuracy: 0.533600\n",
      "Epoch 49, CIFAR-10 Batch 1:  Loss:     1.0656 Validation Accuracy: 0.535400\n",
      "Epoch 50, CIFAR-10 Batch 1:  Loss:     1.0595 Validation Accuracy: 0.531400\n",
      "Epoch 51, CIFAR-10 Batch 1:  Loss:     1.0497 Validation Accuracy: 0.537000\n",
      "Epoch 52, CIFAR-10 Batch 1:  Loss:     1.0393 Validation Accuracy: 0.538400\n",
      "Epoch 53, CIFAR-10 Batch 1:  Loss:     1.0399 Validation Accuracy: 0.536600\n",
      "Epoch 54, CIFAR-10 Batch 1:  Loss:     1.0201 Validation Accuracy: 0.538200\n",
      "Epoch 55, CIFAR-10 Batch 1:  Loss:     1.0143 Validation Accuracy: 0.541600\n",
      "Epoch 56, CIFAR-10 Batch 1:  Loss:     1.0202 Validation Accuracy: 0.536400\n",
      "Epoch 57, CIFAR-10 Batch 1:  Loss:     0.9969 Validation Accuracy: 0.542200\n",
      "Epoch 58, CIFAR-10 Batch 1:  Loss:     1.0015 Validation Accuracy: 0.535400\n",
      "Epoch 59, CIFAR-10 Batch 1:  Loss:     0.9848 Validation Accuracy: 0.547000\n",
      "Epoch 60, CIFAR-10 Batch 1:  Loss:     0.9761 Validation Accuracy: 0.547000\n"
     ]
    }
   ],
   "source": [
    "\"\"\"\n",
    "DON'T MODIFY ANYTHING IN THIS CELL\n",
    "\"\"\"\n",
    "print('Checking the Training on a Single Batch...')\n",
    "with tf.Session() as sess:\n",
    "    # Initializing the variables\n",
    "    sess.run(tf.global_variables_initializer())\n",
    "    \n",
    "    # Training cycle\n",
    "    for epoch in range(epochs):\n",
    "        batch_i = 1\n",
    "        for batch_features, batch_labels in helper.load_preprocess_training_batch(batch_i, batch_size):\n",
    "            train_neural_network(sess, optimizer, keep_probability, batch_features, batch_labels)\n",
    "        print('Epoch {:>2}, CIFAR-10 Batch {}:  '.format(epoch + 1, batch_i), end='')\n",
    "        print_stats(sess, batch_features, batch_labels, cost, accuracy)"
   ]
  },
  {
   "cell_type": "markdown",
   "metadata": {
    "deletable": true,
    "editable": true
   },
   "source": [
    "### Fully Train the Model\n",
    "Now that you got a good accuracy with a single CIFAR-10 batch, try it with all five batches."
   ]
  },
  {
   "cell_type": "code",
   "execution_count": 20,
   "metadata": {
    "collapsed": false,
    "deletable": true,
    "editable": true
   },
   "outputs": [
    {
     "name": "stdout",
     "output_type": "stream",
     "text": [
      "Training...\n",
      "Epoch  1, CIFAR-10 Batch 1:  Loss:     2.2127 Validation Accuracy: 0.166600\n",
      "Epoch  1, CIFAR-10 Batch 2:  Loss:     2.1322 Validation Accuracy: 0.237200\n",
      "Epoch  1, CIFAR-10 Batch 3:  Loss:     2.0358 Validation Accuracy: 0.254800\n",
      "Epoch  1, CIFAR-10 Batch 4:  Loss:     1.8855 Validation Accuracy: 0.301200\n",
      "Epoch  1, CIFAR-10 Batch 5:  Loss:     1.8838 Validation Accuracy: 0.319400\n",
      "Epoch  2, CIFAR-10 Batch 1:  Loss:     1.8866 Validation Accuracy: 0.337600\n",
      "Epoch  2, CIFAR-10 Batch 2:  Loss:     1.7968 Validation Accuracy: 0.366800\n",
      "Epoch  2, CIFAR-10 Batch 3:  Loss:     1.6201 Validation Accuracy: 0.363400\n",
      "Epoch  2, CIFAR-10 Batch 4:  Loss:     1.6491 Validation Accuracy: 0.388800\n",
      "Epoch  2, CIFAR-10 Batch 5:  Loss:     1.6821 Validation Accuracy: 0.400000\n",
      "Epoch  3, CIFAR-10 Batch 1:  Loss:     1.7341 Validation Accuracy: 0.407200\n",
      "Epoch  3, CIFAR-10 Batch 2:  Loss:     1.6624 Validation Accuracy: 0.407800\n",
      "Epoch  3, CIFAR-10 Batch 3:  Loss:     1.4841 Validation Accuracy: 0.412400\n",
      "Epoch  3, CIFAR-10 Batch 4:  Loss:     1.5224 Validation Accuracy: 0.434200\n",
      "Epoch  3, CIFAR-10 Batch 5:  Loss:     1.5849 Validation Accuracy: 0.435400\n",
      "Epoch  4, CIFAR-10 Batch 1:  Loss:     1.6453 Validation Accuracy: 0.438400\n",
      "Epoch  4, CIFAR-10 Batch 2:  Loss:     1.5471 Validation Accuracy: 0.443000\n",
      "Epoch  4, CIFAR-10 Batch 3:  Loss:     1.4021 Validation Accuracy: 0.440000\n",
      "Epoch  4, CIFAR-10 Batch 4:  Loss:     1.4493 Validation Accuracy: 0.452000\n",
      "Epoch  4, CIFAR-10 Batch 5:  Loss:     1.5206 Validation Accuracy: 0.457000\n",
      "Epoch  5, CIFAR-10 Batch 1:  Loss:     1.5777 Validation Accuracy: 0.451800\n",
      "Epoch  5, CIFAR-10 Batch 2:  Loss:     1.4789 Validation Accuracy: 0.460800\n",
      "Epoch  5, CIFAR-10 Batch 3:  Loss:     1.3533 Validation Accuracy: 0.458200\n",
      "Epoch  5, CIFAR-10 Batch 4:  Loss:     1.4000 Validation Accuracy: 0.472600\n",
      "Epoch  5, CIFAR-10 Batch 5:  Loss:     1.4643 Validation Accuracy: 0.476200\n",
      "Epoch  6, CIFAR-10 Batch 1:  Loss:     1.5151 Validation Accuracy: 0.478600\n",
      "Epoch  6, CIFAR-10 Batch 2:  Loss:     1.4135 Validation Accuracy: 0.478600\n",
      "Epoch  6, CIFAR-10 Batch 3:  Loss:     1.2897 Validation Accuracy: 0.484800\n",
      "Epoch  6, CIFAR-10 Batch 4:  Loss:     1.3503 Validation Accuracy: 0.489000\n",
      "Epoch  6, CIFAR-10 Batch 5:  Loss:     1.4206 Validation Accuracy: 0.492000\n",
      "Epoch  7, CIFAR-10 Batch 1:  Loss:     1.4779 Validation Accuracy: 0.489200\n",
      "Epoch  7, CIFAR-10 Batch 2:  Loss:     1.3614 Validation Accuracy: 0.490000\n",
      "Epoch  7, CIFAR-10 Batch 3:  Loss:     1.2667 Validation Accuracy: 0.493400\n",
      "Epoch  7, CIFAR-10 Batch 4:  Loss:     1.3108 Validation Accuracy: 0.497000\n",
      "Epoch  7, CIFAR-10 Batch 5:  Loss:     1.3784 Validation Accuracy: 0.506000\n",
      "Epoch  8, CIFAR-10 Batch 1:  Loss:     1.4451 Validation Accuracy: 0.498800\n",
      "Epoch  8, CIFAR-10 Batch 2:  Loss:     1.3292 Validation Accuracy: 0.503600\n",
      "Epoch  8, CIFAR-10 Batch 3:  Loss:     1.2392 Validation Accuracy: 0.502000\n",
      "Epoch  8, CIFAR-10 Batch 4:  Loss:     1.2683 Validation Accuracy: 0.512000\n",
      "Epoch  8, CIFAR-10 Batch 5:  Loss:     1.3414 Validation Accuracy: 0.511600\n",
      "Epoch  9, CIFAR-10 Batch 1:  Loss:     1.4176 Validation Accuracy: 0.512600\n",
      "Epoch  9, CIFAR-10 Batch 2:  Loss:     1.3013 Validation Accuracy: 0.508600\n",
      "Epoch  9, CIFAR-10 Batch 3:  Loss:     1.2150 Validation Accuracy: 0.508400\n",
      "Epoch  9, CIFAR-10 Batch 4:  Loss:     1.2564 Validation Accuracy: 0.515400\n",
      "Epoch  9, CIFAR-10 Batch 5:  Loss:     1.3120 Validation Accuracy: 0.519000\n",
      "Epoch 10, CIFAR-10 Batch 1:  Loss:     1.3892 Validation Accuracy: 0.520200\n",
      "Epoch 10, CIFAR-10 Batch 2:  Loss:     1.2690 Validation Accuracy: 0.521000\n",
      "Epoch 10, CIFAR-10 Batch 3:  Loss:     1.1915 Validation Accuracy: 0.518000\n",
      "Epoch 10, CIFAR-10 Batch 4:  Loss:     1.2204 Validation Accuracy: 0.529200\n",
      "Epoch 10, CIFAR-10 Batch 5:  Loss:     1.2887 Validation Accuracy: 0.522200\n",
      "Epoch 11, CIFAR-10 Batch 1:  Loss:     1.3667 Validation Accuracy: 0.522200\n",
      "Epoch 11, CIFAR-10 Batch 2:  Loss:     1.2575 Validation Accuracy: 0.521400\n",
      "Epoch 11, CIFAR-10 Batch 3:  Loss:     1.1841 Validation Accuracy: 0.524000\n",
      "Epoch 11, CIFAR-10 Batch 4:  Loss:     1.2059 Validation Accuracy: 0.530400\n",
      "Epoch 11, CIFAR-10 Batch 5:  Loss:     1.2705 Validation Accuracy: 0.526000\n",
      "Epoch 12, CIFAR-10 Batch 1:  Loss:     1.3482 Validation Accuracy: 0.535800\n",
      "Epoch 12, CIFAR-10 Batch 2:  Loss:     1.2221 Validation Accuracy: 0.529000\n",
      "Epoch 12, CIFAR-10 Batch 3:  Loss:     1.1605 Validation Accuracy: 0.532800\n",
      "Epoch 12, CIFAR-10 Batch 4:  Loss:     1.1776 Validation Accuracy: 0.540000\n",
      "Epoch 12, CIFAR-10 Batch 5:  Loss:     1.2416 Validation Accuracy: 0.534400\n",
      "Epoch 13, CIFAR-10 Batch 1:  Loss:     1.3302 Validation Accuracy: 0.534800\n",
      "Epoch 13, CIFAR-10 Batch 2:  Loss:     1.2096 Validation Accuracy: 0.535400\n",
      "Epoch 13, CIFAR-10 Batch 3:  Loss:     1.1378 Validation Accuracy: 0.537000\n",
      "Epoch 13, CIFAR-10 Batch 4:  Loss:     1.1586 Validation Accuracy: 0.538800\n",
      "Epoch 13, CIFAR-10 Batch 5:  Loss:     1.2175 Validation Accuracy: 0.542200\n",
      "Epoch 14, CIFAR-10 Batch 1:  Loss:     1.3164 Validation Accuracy: 0.543600\n",
      "Epoch 14, CIFAR-10 Batch 2:  Loss:     1.1907 Validation Accuracy: 0.539800\n",
      "Epoch 14, CIFAR-10 Batch 3:  Loss:     1.1241 Validation Accuracy: 0.540000\n",
      "Epoch 14, CIFAR-10 Batch 4:  Loss:     1.1535 Validation Accuracy: 0.547200\n",
      "Epoch 14, CIFAR-10 Batch 5:  Loss:     1.2156 Validation Accuracy: 0.540000\n",
      "Epoch 15, CIFAR-10 Batch 1:  Loss:     1.2924 Validation Accuracy: 0.547400\n",
      "Epoch 15, CIFAR-10 Batch 2:  Loss:     1.1686 Validation Accuracy: 0.541000\n",
      "Epoch 15, CIFAR-10 Batch 3:  Loss:     1.1022 Validation Accuracy: 0.544400\n",
      "Epoch 15, CIFAR-10 Batch 4:  Loss:     1.1336 Validation Accuracy: 0.545800\n",
      "Epoch 15, CIFAR-10 Batch 5:  Loss:     1.1864 Validation Accuracy: 0.549600\n",
      "Epoch 16, CIFAR-10 Batch 1:  Loss:     1.2752 Validation Accuracy: 0.546600\n",
      "Epoch 16, CIFAR-10 Batch 2:  Loss:     1.1550 Validation Accuracy: 0.547200\n",
      "Epoch 16, CIFAR-10 Batch 3:  Loss:     1.0966 Validation Accuracy: 0.546200\n",
      "Epoch 16, CIFAR-10 Batch 4:  Loss:     1.1225 Validation Accuracy: 0.549200\n",
      "Epoch 16, CIFAR-10 Batch 5:  Loss:     1.1834 Validation Accuracy: 0.550800\n",
      "Epoch 17, CIFAR-10 Batch 1:  Loss:     1.2660 Validation Accuracy: 0.550800\n",
      "Epoch 17, CIFAR-10 Batch 2:  Loss:     1.1471 Validation Accuracy: 0.547400\n",
      "Epoch 17, CIFAR-10 Batch 3:  Loss:     1.0757 Validation Accuracy: 0.549000\n",
      "Epoch 17, CIFAR-10 Batch 4:  Loss:     1.1087 Validation Accuracy: 0.549200\n",
      "Epoch 17, CIFAR-10 Batch 5:  Loss:     1.1732 Validation Accuracy: 0.551400\n",
      "Epoch 18, CIFAR-10 Batch 1:  Loss:     1.2569 Validation Accuracy: 0.551400\n",
      "Epoch 18, CIFAR-10 Batch 2:  Loss:     1.1301 Validation Accuracy: 0.554400\n",
      "Epoch 18, CIFAR-10 Batch 3:  Loss:     1.0646 Validation Accuracy: 0.555600\n",
      "Epoch 18, CIFAR-10 Batch 4:  Loss:     1.0882 Validation Accuracy: 0.554000\n",
      "Epoch 18, CIFAR-10 Batch 5:  Loss:     1.1625 Validation Accuracy: 0.556400\n",
      "Epoch 19, CIFAR-10 Batch 1:  Loss:     1.2448 Validation Accuracy: 0.553400\n",
      "Epoch 19, CIFAR-10 Batch 2:  Loss:     1.1308 Validation Accuracy: 0.549400\n",
      "Epoch 19, CIFAR-10 Batch 3:  Loss:     1.0569 Validation Accuracy: 0.555000\n",
      "Epoch 19, CIFAR-10 Batch 4:  Loss:     1.0745 Validation Accuracy: 0.550400\n",
      "Epoch 19, CIFAR-10 Batch 5:  Loss:     1.1480 Validation Accuracy: 0.559600\n",
      "Epoch 20, CIFAR-10 Batch 1:  Loss:     1.2425 Validation Accuracy: 0.551400\n",
      "Epoch 20, CIFAR-10 Batch 2:  Loss:     1.1240 Validation Accuracy: 0.551000\n",
      "Epoch 20, CIFAR-10 Batch 3:  Loss:     1.0541 Validation Accuracy: 0.558400\n",
      "Epoch 20, CIFAR-10 Batch 4:  Loss:     1.0718 Validation Accuracy: 0.553800\n",
      "Epoch 20, CIFAR-10 Batch 5:  Loss:     1.1349 Validation Accuracy: 0.562400\n",
      "Epoch 21, CIFAR-10 Batch 1:  Loss:     1.2184 Validation Accuracy: 0.559600\n",
      "Epoch 21, CIFAR-10 Batch 2:  Loss:     1.0987 Validation Accuracy: 0.562200\n",
      "Epoch 21, CIFAR-10 Batch 3:  Loss:     1.0471 Validation Accuracy: 0.556600\n",
      "Epoch 21, CIFAR-10 Batch 4:  Loss:     1.0601 Validation Accuracy: 0.561200\n",
      "Epoch 21, CIFAR-10 Batch 5:  Loss:     1.1252 Validation Accuracy: 0.563400\n",
      "Epoch 22, CIFAR-10 Batch 1:  Loss:     1.2199 Validation Accuracy: 0.553000\n",
      "Epoch 22, CIFAR-10 Batch 2:  Loss:     1.0958 Validation Accuracy: 0.559600\n",
      "Epoch 22, CIFAR-10 Batch 3:  Loss:     1.0332 Validation Accuracy: 0.561400\n",
      "Epoch 22, CIFAR-10 Batch 4:  Loss:     1.0427 Validation Accuracy: 0.560400\n",
      "Epoch 22, CIFAR-10 Batch 5:  Loss:     1.1051 Validation Accuracy: 0.565800\n",
      "Epoch 23, CIFAR-10 Batch 1:  Loss:     1.2057 Validation Accuracy: 0.559800\n",
      "Epoch 23, CIFAR-10 Batch 2:  Loss:     1.0921 Validation Accuracy: 0.561200\n",
      "Epoch 23, CIFAR-10 Batch 3:  Loss:     1.0342 Validation Accuracy: 0.562800\n",
      "Epoch 23, CIFAR-10 Batch 4:  Loss:     1.0420 Validation Accuracy: 0.560800\n",
      "Epoch 23, CIFAR-10 Batch 5:  Loss:     1.0991 Validation Accuracy: 0.563800\n",
      "Epoch 24, CIFAR-10 Batch 1:  Loss:     1.1969 Validation Accuracy: 0.558600\n",
      "Epoch 24, CIFAR-10 Batch 2:  Loss:     1.0750 Validation Accuracy: 0.567000\n",
      "Epoch 24, CIFAR-10 Batch 3:  Loss:     1.0215 Validation Accuracy: 0.563200\n",
      "Epoch 24, CIFAR-10 Batch 4:  Loss:     1.0354 Validation Accuracy: 0.563400\n",
      "Epoch 24, CIFAR-10 Batch 5:  Loss:     1.0920 Validation Accuracy: 0.570800\n",
      "Epoch 25, CIFAR-10 Batch 1:  Loss:     1.1835 Validation Accuracy: 0.561600\n",
      "Epoch 25, CIFAR-10 Batch 2:  Loss:     1.0661 Validation Accuracy: 0.569200\n",
      "Epoch 25, CIFAR-10 Batch 3:  Loss:     1.0132 Validation Accuracy: 0.570000\n",
      "Epoch 25, CIFAR-10 Batch 4:  Loss:     1.0162 Validation Accuracy: 0.562800\n",
      "Epoch 25, CIFAR-10 Batch 5:  Loss:     1.0811 Validation Accuracy: 0.571000\n",
      "Epoch 26, CIFAR-10 Batch 1:  Loss:     1.1721 Validation Accuracy: 0.566000\n",
      "Epoch 26, CIFAR-10 Batch 2:  Loss:     1.0677 Validation Accuracy: 0.567400\n",
      "Epoch 26, CIFAR-10 Batch 3:  Loss:     1.0053 Validation Accuracy: 0.571800\n",
      "Epoch 26, CIFAR-10 Batch 4:  Loss:     1.0179 Validation Accuracy: 0.564200\n",
      "Epoch 26, CIFAR-10 Batch 5:  Loss:     1.0751 Validation Accuracy: 0.568600\n",
      "Epoch 27, CIFAR-10 Batch 1:  Loss:     1.1677 Validation Accuracy: 0.567000\n",
      "Epoch 27, CIFAR-10 Batch 2:  Loss:     1.0615 Validation Accuracy: 0.571000\n",
      "Epoch 27, CIFAR-10 Batch 3:  Loss:     0.9955 Validation Accuracy: 0.571800\n",
      "Epoch 27, CIFAR-10 Batch 4:  Loss:     1.0023 Validation Accuracy: 0.570200\n",
      "Epoch 27, CIFAR-10 Batch 5:  Loss:     1.0738 Validation Accuracy: 0.571800\n",
      "Epoch 28, CIFAR-10 Batch 1:  Loss:     1.1573 Validation Accuracy: 0.573000\n",
      "Epoch 28, CIFAR-10 Batch 2:  Loss:     1.0507 Validation Accuracy: 0.576600\n",
      "Epoch 28, CIFAR-10 Batch 3:  Loss:     0.9908 Validation Accuracy: 0.572800\n",
      "Epoch 28, CIFAR-10 Batch 4:  Loss:     0.9943 Validation Accuracy: 0.568800\n",
      "Epoch 28, CIFAR-10 Batch 5:  Loss:     1.0709 Validation Accuracy: 0.572200\n",
      "Epoch 29, CIFAR-10 Batch 1:  Loss:     1.1495 Validation Accuracy: 0.571600\n",
      "Epoch 29, CIFAR-10 Batch 2:  Loss:     1.0417 Validation Accuracy: 0.574800\n",
      "Epoch 29, CIFAR-10 Batch 3:  Loss:     0.9872 Validation Accuracy: 0.569800\n",
      "Epoch 29, CIFAR-10 Batch 4:  Loss:     0.9912 Validation Accuracy: 0.569200\n",
      "Epoch 29, CIFAR-10 Batch 5:  Loss:     1.0532 Validation Accuracy: 0.572400\n",
      "Epoch 30, CIFAR-10 Batch 1:  Loss:     1.1375 Validation Accuracy: 0.576200\n",
      "Epoch 30, CIFAR-10 Batch 2:  Loss:     1.0422 Validation Accuracy: 0.575200\n",
      "Epoch 30, CIFAR-10 Batch 3:  Loss:     0.9876 Validation Accuracy: 0.570600\n",
      "Epoch 30, CIFAR-10 Batch 4:  Loss:     0.9770 Validation Accuracy: 0.575200\n",
      "Epoch 30, CIFAR-10 Batch 5:  Loss:     1.0457 Validation Accuracy: 0.578800\n",
      "Epoch 31, CIFAR-10 Batch 1:  Loss:     1.1327 Validation Accuracy: 0.576000\n",
      "Epoch 31, CIFAR-10 Batch 2:  Loss:     1.0258 Validation Accuracy: 0.574800\n",
      "Epoch 31, CIFAR-10 Batch 3:  Loss:     0.9865 Validation Accuracy: 0.573800\n",
      "Epoch 31, CIFAR-10 Batch 4:  Loss:     0.9619 Validation Accuracy: 0.579200\n",
      "Epoch 31, CIFAR-10 Batch 5:  Loss:     1.0411 Validation Accuracy: 0.575400\n",
      "Epoch 32, CIFAR-10 Batch 1:  Loss:     1.1143 Validation Accuracy: 0.580600\n",
      "Epoch 32, CIFAR-10 Batch 2:  Loss:     1.0212 Validation Accuracy: 0.577600\n",
      "Epoch 32, CIFAR-10 Batch 3:  Loss:     0.9793 Validation Accuracy: 0.576000\n",
      "Epoch 32, CIFAR-10 Batch 4:  Loss:     0.9568 Validation Accuracy: 0.573400\n",
      "Epoch 32, CIFAR-10 Batch 5:  Loss:     1.0291 Validation Accuracy: 0.582600\n",
      "Epoch 33, CIFAR-10 Batch 1:  Loss:     1.1106 Validation Accuracy: 0.582200\n",
      "Epoch 33, CIFAR-10 Batch 2:  Loss:     1.0192 Validation Accuracy: 0.580600\n",
      "Epoch 33, CIFAR-10 Batch 3:  Loss:     0.9725 Validation Accuracy: 0.580400\n",
      "Epoch 33, CIFAR-10 Batch 4:  Loss:     0.9441 Validation Accuracy: 0.580600\n",
      "Epoch 33, CIFAR-10 Batch 5:  Loss:     1.0266 Validation Accuracy: 0.586200\n",
      "Epoch 34, CIFAR-10 Batch 1:  Loss:     1.1102 Validation Accuracy: 0.579200\n",
      "Epoch 34, CIFAR-10 Batch 2:  Loss:     1.0102 Validation Accuracy: 0.580000\n",
      "Epoch 34, CIFAR-10 Batch 3:  Loss:     0.9650 Validation Accuracy: 0.578800\n",
      "Epoch 34, CIFAR-10 Batch 4:  Loss:     0.9383 Validation Accuracy: 0.581400\n",
      "Epoch 34, CIFAR-10 Batch 5:  Loss:     1.0207 Validation Accuracy: 0.585000\n",
      "Epoch 35, CIFAR-10 Batch 1:  Loss:     1.1020 Validation Accuracy: 0.581600\n",
      "Epoch 35, CIFAR-10 Batch 2:  Loss:     0.9971 Validation Accuracy: 0.583800\n",
      "Epoch 35, CIFAR-10 Batch 3:  Loss:     0.9649 Validation Accuracy: 0.577400\n",
      "Epoch 35, CIFAR-10 Batch 4:  Loss:     0.9388 Validation Accuracy: 0.581000\n",
      "Epoch 35, CIFAR-10 Batch 5:  Loss:     1.0143 Validation Accuracy: 0.587600\n",
      "Epoch 36, CIFAR-10 Batch 1:  Loss:     1.0899 Validation Accuracy: 0.583200\n",
      "Epoch 36, CIFAR-10 Batch 2:  Loss:     0.9992 Validation Accuracy: 0.584200\n",
      "Epoch 36, CIFAR-10 Batch 3:  Loss:     0.9487 Validation Accuracy: 0.584400\n",
      "Epoch 36, CIFAR-10 Batch 4:  Loss:     0.9496 Validation Accuracy: 0.581600\n",
      "Epoch 36, CIFAR-10 Batch 5:  Loss:     1.0038 Validation Accuracy: 0.582800\n",
      "Epoch 37, CIFAR-10 Batch 1:  Loss:     1.0869 Validation Accuracy: 0.583400\n",
      "Epoch 37, CIFAR-10 Batch 2:  Loss:     0.9932 Validation Accuracy: 0.588800\n",
      "Epoch 37, CIFAR-10 Batch 3:  Loss:     0.9403 Validation Accuracy: 0.587200\n",
      "Epoch 37, CIFAR-10 Batch 4:  Loss:     0.9234 Validation Accuracy: 0.588800\n",
      "Epoch 37, CIFAR-10 Batch 5:  Loss:     1.0001 Validation Accuracy: 0.586200\n",
      "Epoch 38, CIFAR-10 Batch 1:  Loss:     1.0841 Validation Accuracy: 0.586400\n",
      "Epoch 38, CIFAR-10 Batch 2:  Loss:     0.9911 Validation Accuracy: 0.584400\n",
      "Epoch 38, CIFAR-10 Batch 3:  Loss:     0.9388 Validation Accuracy: 0.589200\n",
      "Epoch 38, CIFAR-10 Batch 4:  Loss:     0.9249 Validation Accuracy: 0.584600\n",
      "Epoch 38, CIFAR-10 Batch 5:  Loss:     0.9953 Validation Accuracy: 0.587800\n",
      "Epoch 39, CIFAR-10 Batch 1:  Loss:     1.0709 Validation Accuracy: 0.586400\n",
      "Epoch 39, CIFAR-10 Batch 2:  Loss:     0.9837 Validation Accuracy: 0.589600\n",
      "Epoch 39, CIFAR-10 Batch 3:  Loss:     0.9371 Validation Accuracy: 0.586600\n",
      "Epoch 39, CIFAR-10 Batch 4:  Loss:     0.9249 Validation Accuracy: 0.590800\n",
      "Epoch 39, CIFAR-10 Batch 5:  Loss:     0.9864 Validation Accuracy: 0.588600\n",
      "Epoch 40, CIFAR-10 Batch 1:  Loss:     1.0742 Validation Accuracy: 0.591600\n",
      "Epoch 40, CIFAR-10 Batch 2:  Loss:     0.9762 Validation Accuracy: 0.593800\n",
      "Epoch 40, CIFAR-10 Batch 3:  Loss:     0.9416 Validation Accuracy: 0.582600\n",
      "Epoch 40, CIFAR-10 Batch 4:  Loss:     0.9068 Validation Accuracy: 0.590400\n",
      "Epoch 40, CIFAR-10 Batch 5:  Loss:     0.9792 Validation Accuracy: 0.596600\n",
      "Epoch 41, CIFAR-10 Batch 1:  Loss:     1.0624 Validation Accuracy: 0.592000\n",
      "Epoch 41, CIFAR-10 Batch 2:  Loss:     0.9615 Validation Accuracy: 0.592200\n",
      "Epoch 41, CIFAR-10 Batch 3:  Loss:     0.9243 Validation Accuracy: 0.590200\n",
      "Epoch 41, CIFAR-10 Batch 4:  Loss:     0.9050 Validation Accuracy: 0.588600\n",
      "Epoch 41, CIFAR-10 Batch 5:  Loss:     0.9761 Validation Accuracy: 0.592200\n",
      "Epoch 42, CIFAR-10 Batch 1:  Loss:     1.0573 Validation Accuracy: 0.585000\n",
      "Epoch 42, CIFAR-10 Batch 2:  Loss:     0.9667 Validation Accuracy: 0.591600\n",
      "Epoch 42, CIFAR-10 Batch 3:  Loss:     0.9160 Validation Accuracy: 0.588200\n",
      "Epoch 42, CIFAR-10 Batch 4:  Loss:     0.9014 Validation Accuracy: 0.595000\n",
      "Epoch 42, CIFAR-10 Batch 5:  Loss:     0.9758 Validation Accuracy: 0.592800\n",
      "Epoch 43, CIFAR-10 Batch 1:  Loss:     1.0512 Validation Accuracy: 0.592600\n",
      "Epoch 43, CIFAR-10 Batch 2:  Loss:     0.9613 Validation Accuracy: 0.596400\n",
      "Epoch 43, CIFAR-10 Batch 3:  Loss:     0.9082 Validation Accuracy: 0.592200\n",
      "Epoch 43, CIFAR-10 Batch 4:  Loss:     0.9002 Validation Accuracy: 0.593000\n",
      "Epoch 43, CIFAR-10 Batch 5:  Loss:     0.9676 Validation Accuracy: 0.594800\n",
      "Epoch 44, CIFAR-10 Batch 1:  Loss:     1.0441 Validation Accuracy: 0.593600\n",
      "Epoch 44, CIFAR-10 Batch 2:  Loss:     0.9520 Validation Accuracy: 0.596600\n",
      "Epoch 44, CIFAR-10 Batch 3:  Loss:     0.8997 Validation Accuracy: 0.594000\n",
      "Epoch 44, CIFAR-10 Batch 4:  Loss:     0.8918 Validation Accuracy: 0.589400\n",
      "Epoch 44, CIFAR-10 Batch 5:  Loss:     0.9553 Validation Accuracy: 0.595600\n",
      "Epoch 45, CIFAR-10 Batch 1:  Loss:     1.0433 Validation Accuracy: 0.590000\n",
      "Epoch 45, CIFAR-10 Batch 2:  Loss:     0.9491 Validation Accuracy: 0.596200\n",
      "Epoch 45, CIFAR-10 Batch 3:  Loss:     0.9014 Validation Accuracy: 0.592200\n",
      "Epoch 45, CIFAR-10 Batch 4:  Loss:     0.8860 Validation Accuracy: 0.588400\n",
      "Epoch 45, CIFAR-10 Batch 5:  Loss:     0.9604 Validation Accuracy: 0.598000\n",
      "Epoch 46, CIFAR-10 Batch 1:  Loss:     1.0344 Validation Accuracy: 0.596400\n",
      "Epoch 46, CIFAR-10 Batch 2:  Loss:     0.9480 Validation Accuracy: 0.596800\n",
      "Epoch 46, CIFAR-10 Batch 3:  Loss:     0.8977 Validation Accuracy: 0.591000\n",
      "Epoch 46, CIFAR-10 Batch 4:  Loss:     0.8783 Validation Accuracy: 0.596200\n",
      "Epoch 46, CIFAR-10 Batch 5:  Loss:     0.9552 Validation Accuracy: 0.599600\n",
      "Epoch 47, CIFAR-10 Batch 1:  Loss:     1.0375 Validation Accuracy: 0.592600\n",
      "Epoch 47, CIFAR-10 Batch 2:  Loss:     0.9370 Validation Accuracy: 0.602400\n",
      "Epoch 47, CIFAR-10 Batch 3:  Loss:     0.8899 Validation Accuracy: 0.592000\n",
      "Epoch 47, CIFAR-10 Batch 4:  Loss:     0.8803 Validation Accuracy: 0.591800\n",
      "Epoch 47, CIFAR-10 Batch 5:  Loss:     0.9566 Validation Accuracy: 0.596200\n",
      "Epoch 48, CIFAR-10 Batch 1:  Loss:     1.0301 Validation Accuracy: 0.596400\n",
      "Epoch 48, CIFAR-10 Batch 2:  Loss:     0.9404 Validation Accuracy: 0.599000\n",
      "Epoch 48, CIFAR-10 Batch 3:  Loss:     0.8862 Validation Accuracy: 0.593800\n",
      "Epoch 48, CIFAR-10 Batch 4:  Loss:     0.8775 Validation Accuracy: 0.595800\n",
      "Epoch 48, CIFAR-10 Batch 5:  Loss:     0.9514 Validation Accuracy: 0.598600\n",
      "Epoch 49, CIFAR-10 Batch 1:  Loss:     1.0271 Validation Accuracy: 0.595600\n",
      "Epoch 49, CIFAR-10 Batch 2:  Loss:     0.9307 Validation Accuracy: 0.602800\n",
      "Epoch 49, CIFAR-10 Batch 3:  Loss:     0.8745 Validation Accuracy: 0.598600\n",
      "Epoch 49, CIFAR-10 Batch 4:  Loss:     0.8614 Validation Accuracy: 0.592000\n",
      "Epoch 49, CIFAR-10 Batch 5:  Loss:     0.9494 Validation Accuracy: 0.599800\n",
      "Epoch 50, CIFAR-10 Batch 1:  Loss:     1.0249 Validation Accuracy: 0.597400\n",
      "Epoch 50, CIFAR-10 Batch 2:  Loss:     0.9212 Validation Accuracy: 0.607200\n",
      "Epoch 50, CIFAR-10 Batch 3:  Loss:     0.8787 Validation Accuracy: 0.597200\n",
      "Epoch 50, CIFAR-10 Batch 4:  Loss:     0.8672 Validation Accuracy: 0.594200\n",
      "Epoch 50, CIFAR-10 Batch 5:  Loss:     0.9342 Validation Accuracy: 0.602600\n",
      "Epoch 51, CIFAR-10 Batch 1:  Loss:     1.0129 Validation Accuracy: 0.598800\n",
      "Epoch 51, CIFAR-10 Batch 2:  Loss:     0.9143 Validation Accuracy: 0.602800\n",
      "Epoch 51, CIFAR-10 Batch 3:  Loss:     0.8769 Validation Accuracy: 0.594400\n",
      "Epoch 51, CIFAR-10 Batch 4:  Loss:     0.8644 Validation Accuracy: 0.592800\n",
      "Epoch 51, CIFAR-10 Batch 5:  Loss:     0.9398 Validation Accuracy: 0.602600\n",
      "Epoch 52, CIFAR-10 Batch 1:  Loss:     1.0114 Validation Accuracy: 0.601400\n",
      "Epoch 52, CIFAR-10 Batch 2:  Loss:     0.9145 Validation Accuracy: 0.602400\n",
      "Epoch 52, CIFAR-10 Batch 3:  Loss:     0.8627 Validation Accuracy: 0.598400\n",
      "Epoch 52, CIFAR-10 Batch 4:  Loss:     0.8537 Validation Accuracy: 0.593800\n",
      "Epoch 52, CIFAR-10 Batch 5:  Loss:     0.9303 Validation Accuracy: 0.603400\n",
      "Epoch 53, CIFAR-10 Batch 1:  Loss:     1.0053 Validation Accuracy: 0.605000\n",
      "Epoch 53, CIFAR-10 Batch 2:  Loss:     0.9085 Validation Accuracy: 0.606200\n",
      "Epoch 53, CIFAR-10 Batch 3:  Loss:     0.8638 Validation Accuracy: 0.598800\n",
      "Epoch 53, CIFAR-10 Batch 4:  Loss:     0.8510 Validation Accuracy: 0.595800\n",
      "Epoch 53, CIFAR-10 Batch 5:  Loss:     0.9211 Validation Accuracy: 0.604000\n",
      "Epoch 54, CIFAR-10 Batch 1:  Loss:     1.0002 Validation Accuracy: 0.603800\n",
      "Epoch 54, CIFAR-10 Batch 2:  Loss:     0.8977 Validation Accuracy: 0.611600\n",
      "Epoch 54, CIFAR-10 Batch 3:  Loss:     0.8554 Validation Accuracy: 0.598600\n",
      "Epoch 54, CIFAR-10 Batch 4:  Loss:     0.8513 Validation Accuracy: 0.597600\n",
      "Epoch 54, CIFAR-10 Batch 5:  Loss:     0.9168 Validation Accuracy: 0.607800\n",
      "Epoch 55, CIFAR-10 Batch 1:  Loss:     0.9938 Validation Accuracy: 0.603600\n",
      "Epoch 55, CIFAR-10 Batch 2:  Loss:     0.9041 Validation Accuracy: 0.608800\n",
      "Epoch 55, CIFAR-10 Batch 3:  Loss:     0.8453 Validation Accuracy: 0.602200\n",
      "Epoch 55, CIFAR-10 Batch 4:  Loss:     0.8382 Validation Accuracy: 0.599200\n",
      "Epoch 55, CIFAR-10 Batch 5:  Loss:     0.9217 Validation Accuracy: 0.605600\n",
      "Epoch 56, CIFAR-10 Batch 1:  Loss:     0.9952 Validation Accuracy: 0.607400\n",
      "Epoch 56, CIFAR-10 Batch 2:  Loss:     0.8855 Validation Accuracy: 0.607000\n",
      "Epoch 56, CIFAR-10 Batch 3:  Loss:     0.8509 Validation Accuracy: 0.596600\n",
      "Epoch 56, CIFAR-10 Batch 4:  Loss:     0.8378 Validation Accuracy: 0.595200\n",
      "Epoch 56, CIFAR-10 Batch 5:  Loss:     0.9181 Validation Accuracy: 0.606200\n",
      "Epoch 57, CIFAR-10 Batch 1:  Loss:     0.9923 Validation Accuracy: 0.605600\n",
      "Epoch 57, CIFAR-10 Batch 2:  Loss:     0.8838 Validation Accuracy: 0.610800\n",
      "Epoch 57, CIFAR-10 Batch 3:  Loss:     0.8542 Validation Accuracy: 0.602200\n",
      "Epoch 57, CIFAR-10 Batch 4:  Loss:     0.8440 Validation Accuracy: 0.597200\n",
      "Epoch 57, CIFAR-10 Batch 5:  Loss:     0.9137 Validation Accuracy: 0.603800\n",
      "Epoch 58, CIFAR-10 Batch 1:  Loss:     0.9863 Validation Accuracy: 0.606400\n",
      "Epoch 58, CIFAR-10 Batch 2:  Loss:     0.8833 Validation Accuracy: 0.607400\n",
      "Epoch 58, CIFAR-10 Batch 3:  Loss:     0.8457 Validation Accuracy: 0.605400\n",
      "Epoch 58, CIFAR-10 Batch 4:  Loss:     0.8250 Validation Accuracy: 0.598600\n",
      "Epoch 58, CIFAR-10 Batch 5:  Loss:     0.9099 Validation Accuracy: 0.607800\n",
      "Epoch 59, CIFAR-10 Batch 1:  Loss:     0.9726 Validation Accuracy: 0.606800\n",
      "Epoch 59, CIFAR-10 Batch 2:  Loss:     0.8871 Validation Accuracy: 0.615000\n",
      "Epoch 59, CIFAR-10 Batch 3:  Loss:     0.8270 Validation Accuracy: 0.604800\n",
      "Epoch 59, CIFAR-10 Batch 4:  Loss:     0.8110 Validation Accuracy: 0.605000\n",
      "Epoch 59, CIFAR-10 Batch 5:  Loss:     0.9071 Validation Accuracy: 0.607800\n",
      "Epoch 60, CIFAR-10 Batch 1:  Loss:     0.9834 Validation Accuracy: 0.601000\n",
      "Epoch 60, CIFAR-10 Batch 2:  Loss:     0.8761 Validation Accuracy: 0.610200\n",
      "Epoch 60, CIFAR-10 Batch 3:  Loss:     0.8249 Validation Accuracy: 0.610600\n",
      "Epoch 60, CIFAR-10 Batch 4:  Loss:     0.8171 Validation Accuracy: 0.604200\n",
      "Epoch 60, CIFAR-10 Batch 5:  Loss:     0.8972 Validation Accuracy: 0.614000\n"
     ]
    }
   ],
   "source": [
    "\"\"\"\n",
    "DON'T MODIFY ANYTHING IN THIS CELL\n",
    "\"\"\"\n",
    "save_model_path = './image_classification'\n",
    "\n",
    "print('Training...')\n",
    "with tf.Session() as sess:\n",
    "    # Initializing the variables\n",
    "    sess.run(tf.global_variables_initializer())\n",
    "    \n",
    "    # Training cycle\n",
    "    for epoch in range(epochs):\n",
    "        # Loop over all batches\n",
    "        n_batches = 5\n",
    "        for batch_i in range(1, n_batches + 1):\n",
    "            for batch_features, batch_labels in helper.load_preprocess_training_batch(batch_i, batch_size):\n",
    "                train_neural_network(sess, optimizer, keep_probability, batch_features, batch_labels)\n",
    "            print('Epoch {:>2}, CIFAR-10 Batch {}:  '.format(epoch + 1, batch_i), end='')\n",
    "            print_stats(sess, batch_features, batch_labels, cost, accuracy)\n",
    "            \n",
    "    # Save Model\n",
    "    saver = tf.train.Saver()\n",
    "    save_path = saver.save(sess, save_model_path)"
   ]
  },
  {
   "cell_type": "markdown",
   "metadata": {
    "deletable": true,
    "editable": true
   },
   "source": [
    "# Checkpoint\n",
    "The model has been saved to disk.\n",
    "## Test Model\n",
    "Test your model against the test dataset.  This will be your final accuracy. You should have an accuracy greater than 50%. If you don't, keep tweaking the model architecture and parameters."
   ]
  },
  {
   "cell_type": "code",
   "execution_count": 23,
   "metadata": {
    "collapsed": false,
    "deletable": true,
    "editable": true
   },
   "outputs": [
    {
     "name": "stdout",
     "output_type": "stream",
     "text": [
      "Testing Accuracy: 0.6077033579349518\n",
      "\n"
     ]
    },
    {
     "data": {
      "image/png": "[encoded data removed]",
      "text/plain": [
       "<matplotlib.figure.Figure at 0x7f2daeecea20>"
      ]
     },
     "metadata": {
      "image/png": {
       "height": 319,
       "width": 355
      }
     },
     "output_type": "display_data"
    }
   ],
   "source": [
    "\"\"\"\n",
    "DON'T MODIFY ANYTHING IN THIS CELL\n",
    "\"\"\"\n",
    "%matplotlib inline\n",
    "%config InlineBackend.figure_format = 'retina'\n",
    "\n",
    "import tensorflow as tf\n",
    "import pickle\n",
    "import helper\n",
    "import random\n",
    "\n",
    "# Set batch size if not already set\n",
    "try:\n",
    "    if batch_size:\n",
    "        pass\n",
    "except NameError:\n",
    "    batch_size = 64\n",
    "\n",
    "save_model_path = './image_classification'\n",
    "n_samples = 4\n",
    "top_n_predictions = 3\n",
    "\n",
    "def test_model():\n",
    "    \"\"\"\n",
    "    Test the saved model against the test dataset\n",
    "    \"\"\"\n",
    "\n",
    "    test_features, test_labels = pickle.load(open('preprocess_test.p', mode='rb'))\n",
    "    loaded_graph = tf.Graph()\n",
    "\n",
    "    with tf.Session(graph=loaded_graph) as sess:\n",
    "        # Load model\n",
    "        loader = tf.train.import_meta_graph(save_model_path + '.meta')\n",
    "        loader.restore(sess, save_model_path)\n",
    "\n",
    "        # Get Tensors from loaded model\n",
    "        loaded_x = loaded_graph.get_tensor_by_name('x:0')\n",
    "        loaded_y = loaded_graph.get_tensor_by_name('y:0')\n",
    "        loaded_keep_prob = loaded_graph.get_tensor_by_name('keep_prob:0')\n",
    "        loaded_logits = loaded_graph.get_tensor_by_name('logits:0')\n",
    "        loaded_acc = loaded_graph.get_tensor_by_name('accuracy:0')\n",
    "        \n",
    "        # Get accuracy in batches for memory limitations\n",
    "        test_batch_acc_total = 0\n",
    "        test_batch_count = 0\n",
    "        \n",
    "        for test_feature_batch, test_label_batch in helper.batch_features_labels(test_features, test_labels, batch_size):\n",
    "            test_batch_acc_total += sess.run(\n",
    "                loaded_acc,\n",
    "                feed_dict={loaded_x: test_feature_batch, loaded_y: test_label_batch, loaded_keep_prob: 1.0})\n",
    "            test_batch_count += 1\n",
    "\n",
    "        print('Testing Accuracy: {}\\n'.format(test_batch_acc_total/test_batch_count))\n",
    "\n",
    "        # Print Random Samples\n",
    "        random_test_features, random_test_labels = tuple(zip(*random.sample(list(zip(test_features, test_labels)), n_samples)))\n",
    "        random_test_predictions = sess.run(\n",
    "            tf.nn.top_k(tf.nn.softmax(loaded_logits), top_n_predictions),\n",
    "            feed_dict={loaded_x: random_test_features, loaded_y: random_test_labels, loaded_keep_prob: 1.0})\n",
    "        helper.display_image_predictions(random_test_features, random_test_labels, random_test_predictions)\n",
    "\n",
    "\n",
    "test_model()"
   ]
  },
  {
   "cell_type": "markdown",
   "metadata": {
    "deletable": true,
    "editable": true
   },
   "source": [
    "## Why 50-80% Accuracy?\n",
    "You might be wondering why you can't get an accuracy any higher. First things first, 50% isn't bad for a simple CNN.  Pure guessing would get you 10% accuracy. However, you might notice people are getting scores [well above 80%](http://rodrigob.github.io/are_we_there_yet/build/classification_datasets_results.html#43494641522d3130).  That's because we haven't taught you all there is to know about neural networks. We still need to cover a few more techniques.\n",
    "## Submitting This Project\n",
    "When submitting this project, make sure to run all the cells before saving the notebook.  Save the notebook file as \"dlnd_image_classification.ipynb\" and save it as a HTML file under \"File\" -> \"Download as\".  Include the \"helper.py\" and \"problem_unittests.py\" files in your submission."
   ]
  },
  {
   "cell_type": "code",
   "execution_count": null,
   "metadata": {
    "collapsed": true
   },
   "outputs": [],
   "source": []
  }
 ],
 "metadata": {
  "kernelspec": {
   "display_name": "Python 3",
   "language": "python",
   "name": "python3"
  },
  "language_info": {
   "codemirror_mode": {
    "name": "ipython",
    "version": 3
   },
   "file_extension": ".py",
   "mimetype": "text/x-python",
   "name": "python",
   "nbconvert_exporter": "python",
   "pygments_lexer": "ipython3",
   "version": "3.5.2"
  },
  "widgets": {
   "state": {},
   "version": "1.1.2"
  }
 },
 "nbformat": 4,
 "nbformat_minor": 0
}
